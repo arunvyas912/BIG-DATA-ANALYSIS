{
  "nbformat": 4,
  "nbformat_minor": 0,
  "metadata": {
    "colab": {
      "provenance": []
    },
    "kernelspec": {
      "name": "python3",
      "display_name": "Python 3"
    },
    "language_info": {
      "name": "python"
    }
  },
  "cells": [
    {
      "cell_type": "code",
      "source": [
        "from pyspark.sql import SparkSession\n",
        "from pyspark.sql.functions import col, sum, year"
      ],
      "metadata": {
        "id": "jN7AYxojnb6L"
      },
      "execution_count": null,
      "outputs": []
    },
    {
      "cell_type": "code",
      "source": [
        "# Initialize Spark Session\n",
        "spark = SparkSession.builder.appName(\"EV Sales Data Analysis\").getOrCreate()"
      ],
      "metadata": {
        "id": "kdDH0zJ_r4-5"
      },
      "execution_count": null,
      "outputs": []
    },
    {
      "cell_type": "code",
      "source": [
        "# Load the dataset\n",
        "df = spark.read.csv(\"/IEA-EV-dataEV salesHistoricalCars.csv\", header=True, inferSchema=True)"
      ],
      "metadata": {
        "id": "KlEJZmAxr4rZ"
      },
      "execution_count": null,
      "outputs": []
    },
    {
      "cell_type": "code",
      "source": [
        "# Preview the data\n",
        "df.printSchema()\n",
        "df.show(5)"
      ],
      "metadata": {
        "colab": {
          "base_uri": "https://localhost:8080/"
        },
        "id": "BWtecV6duVcz",
        "outputId": "cd55bfb4-5bdd-469b-bfe0-cb2f958a46c2"
      },
      "execution_count": null,
      "outputs": [
        {
          "output_type": "stream",
          "name": "stdout",
          "text": [
            "root\n",
            " |-- region: string (nullable = true)\n",
            " |-- category: string (nullable = true)\n",
            " |-- parameter: string (nullable = true)\n",
            " |-- mode: string (nullable = true)\n",
            " |-- powertrain: string (nullable = true)\n",
            " |-- year: integer (nullable = true)\n",
            " |-- unit: string (nullable = true)\n",
            " |-- value: double (nullable = true)\n",
            "\n",
            "+---------+----------+--------------+----+----------+----+--------+--------------------+\n",
            "|   region|  category|     parameter|mode|powertrain|year|    unit|               value|\n",
            "+---------+----------+--------------+----+----------+----+--------+--------------------+\n",
            "|Australia|Historical|      EV sales|Cars|       BEV|2011|Vehicles|                49.0|\n",
            "|Australia|Historical|EV stock share|Cars|        EV|2011| percent|3.900000010617077...|\n",
            "|Australia|Historical|EV sales share|Cars|        EV|2011| percent|0.006500000134110451|\n",
            "|Australia|Historical|      EV stock|Cars|       BEV|2011|Vehicles|                49.0|\n",
            "|Australia|Historical|      EV stock|Cars|       BEV|2012|Vehicles|               220.0|\n",
            "+---------+----------+--------------+----+----------+----+--------+--------------------+\n",
            "only showing top 5 rows\n",
            "\n"
          ]
        }
      ]
    },
    {
      "cell_type": "code",
      "source": [
        "# Data Cleaning\n",
        "df_clean = df.dropna(how=\"any\")"
      ],
      "metadata": {
        "id": "5AGSqP0Cue0e"
      },
      "execution_count": null,
      "outputs": []
    },
    {
      "cell_type": "code",
      "source": [
        "# Aggregated Analysis\n",
        "# Total EV sales by year\n",
        "sales_by_year = df_clean.groupBy(\"year\").agg(sum(\"value\").alias(\"total_sales\")).orderBy(\"year\")\n",
        "sales_by_year.show()"
      ],
      "metadata": {
        "colab": {
          "base_uri": "https://localhost:8080/"
        },
        "id": "YNGuZE6Au193",
        "outputId": "cec0b14e-4ae5-4d6f-d6a5-69a76ee5b30c"
      },
      "execution_count": null,
      "outputs": [
        {
          "output_type": "stream",
          "name": "stdout",
          "text": [
            "+----+--------------------+\n",
            "|year|         total_sales|\n",
            "+----+--------------------+\n",
            "|2010|    70978.7207436126|\n",
            "|2011|   285588.0108696912|\n",
            "|2012|   742720.0002148302|\n",
            "|2013|  1473643.7232171951|\n",
            "|2014|  2561216.4220652403|\n",
            "|2015|   4552899.912754189|\n",
            "|2016|   6828047.930784922|\n",
            "|2017|1.0525976713900255E7|\n",
            "|2018| 1.701155216890844E7|\n",
            "|2019|2.2472929724019326E7|\n",
            "|2020| 3.397518928814869E7|\n",
            "|2021|  5.93561953893497E7|\n",
            "|2022| 9.100238453730103E7|\n",
            "|2023|1.3256485441860037E8|\n",
            "+----+--------------------+\n",
            "\n"
          ]
        }
      ]
    },
    {
      "cell_type": "code",
      "source": [
        "# Total EV sales by region\n",
        "sales_by_region = df_clean.groupBy(\"region\").agg(sum(\"value\").alias(\"total_sales\")).orderBy(col(\"total_sales\").desc())\n",
        "sales_by_region.show()"
      ],
      "metadata": {
        "colab": {
          "base_uri": "https://localhost:8080/"
        },
        "id": "m_FPTXA6vG6N",
        "outputId": "27dcaef2-8af7-4acc-9d56-aebc98306090"
      },
      "execution_count": null,
      "outputs": [
        {
          "output_type": "stream",
          "name": "stdout",
          "text": [
            "+--------------+--------------------+\n",
            "|        region|         total_sales|\n",
            "+--------------+--------------------+\n",
            "|         World|1.5422581302707928E8|\n",
            "|         China| 7.801320872585829E7|\n",
            "|        Europe| 4.444434366701014E7|\n",
            "|          EU27|3.1541538708500028E7|\n",
            "|           USA| 2.156330253489906E7|\n",
            "|       Germany|   9807279.524880093|\n",
            "|        France|   6136208.925230009|\n",
            "|United Kingdom|   5973932.845299745|\n",
            "|        Norway|          4667650.57|\n",
            "|         Japan|  3456082.8860999206|\n",
            "|   Netherlands|   3261989.192600503|\n",
            "|        Sweden|  2417205.3854916226|\n",
            "|        Canada|   2373967.780899913|\n",
            "|         Korea|  2078441.4851003333|\n",
            "|         Italy|  1756414.0726003079|\n",
            "|       Belgium|   1653062.761799809|\n",
            "|         Spain|  1299119.3412399162|\n",
            "|   Switzerland|  1123248.7960000988|\n",
            "|       Denmark|  1063940.0706995751|\n",
            "|       Austria|   872067.7148998864|\n",
            "+--------------+--------------------+\n",
            "only showing top 20 rows\n",
            "\n"
          ]
        }
      ]
    },
    {
      "cell_type": "code",
      "source": [
        "#  Filter Data - Only Battery Electric Vehicles (BEV)\n",
        "bev_df = df_clean.filter(df_clean[\"powertrain\"] == \"BEV\")\n",
        "bev_by_year = bev_df.groupBy(\"year\").agg(sum(\"value\").alias(\"BEV_sales\")).orderBy(\"year\")\n",
        "bev_by_year.show()"
      ],
      "metadata": {
        "colab": {
          "base_uri": "https://localhost:8080/"
        },
        "id": "KoQi7RX4vRli",
        "outputId": "f383685f-3b44-471e-9345-9ffc190c1f5a"
      },
      "execution_count": null,
      "outputs": [
        {
          "output_type": "stream",
          "name": "stdout",
          "text": [
            "+----+-----------+\n",
            "|year|  BEV_sales|\n",
            "+----+-----------+\n",
            "|2010|    67792.0|\n",
            "|2011|   243067.0|\n",
            "|2012|   441667.0|\n",
            "|2013|   844696.0|\n",
            "|2014|  1510387.0|\n",
            "|2015|  2592271.0|\n",
            "|2016|  3932673.0|\n",
            "|2017|  6241910.0|\n",
            "|2018|1.0591713E7|\n",
            "|2019|1.4797219E7|\n",
            "|2020| 2.163866E7|\n",
            "|2021|3.8522375E7|\n",
            "|2022|6.1180847E7|\n",
            "|2023| 8.959061E7|\n",
            "+----+-----------+\n",
            "\n"
          ]
        }
      ]
    },
    {
      "cell_type": "code",
      "source": [
        "# Save the insights to CSV (Optional)\n",
        "sales_by_year.coalesce(1).write.csv(\"/mnt/data/output_sales_by_year\", header=True, mode=\"overwrite\")\n",
        "sales_by_region.coalesce(1).write.csv(\"/mnt/data/output_sales_by_region\", header=True, mode=\"overwrite\")"
      ],
      "metadata": {
        "id": "h41s7LZ4vdoR"
      },
      "execution_count": null,
      "outputs": []
    },
    {
      "cell_type": "code",
      "source": [
        "# Stop Spark session\n",
        "spark.stop()"
      ],
      "metadata": {
        "id": "7dv3vzhZvYET"
      },
      "execution_count": null,
      "outputs": []
    },
    {
      "cell_type": "markdown",
      "source": [],
      "metadata": {
        "id": "7ZnDrit5sJE7"
      }
    }
  ]
}